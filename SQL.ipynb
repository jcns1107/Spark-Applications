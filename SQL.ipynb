{
 "cells": [
  {
   "cell_type": "code",
   "execution_count": null,
   "metadata": {},
   "outputs": [
    {
     "name": "stdout",
     "output_type": "stream",
     "text": [
      "3.5.2\n"
     ]
    }
   ],
   "source": [
    "from pyspark.sql import SparkSession\n",
    "\n",
    "# Set your own jar path\n",
    "jar_path = \"path/to/postgresql-42.x.x.jar\"\n",
    "\n",
    "# SparkSession Start\n",
    "spark = SparkSession.builder \\\n",
    "    .appName(\"TestSession\") \\\n",
    "    .master(\"local[*]\") \\\n",
    "    .config(\"spark.jars\", jar_path) \\\n",
    "    .getOrCreate()\n",
    "\n",
    "print(spark.version)"
   ]
  },
  {
   "cell_type": "code",
   "execution_count": null,
   "metadata": {},
   "outputs": [
    {
     "name": "stdout",
     "output_type": "stream",
     "text": [
      "+---+---+----------+-----------+------+-------------+----+---------+------+------+\n",
      "| id|age|      item|   category|amount|     location|size|    color|season|rating|\n",
      "+---+---+----------+-----------+------+-------------+----+---------+------+------+\n",
      "|  1| 55|    Blouse|   Clothing|    53|     Kentucky|   L|     Gray|Winter|   3.1|\n",
      "|  2| 19|   Sweater|   Clothing|    64|        Maine|   L|   Maroon|Winter|   3.1|\n",
      "|  3| 50|     Jeans|   Clothing|    73|Massachusetts|   S|   Maroon|Spring|   3.1|\n",
      "|  4| 21|   Sandals|   Footwear|    90| Rhode Island|   M|   Maroon|Spring|   3.5|\n",
      "|  5| 45|    Blouse|   Clothing|    49|       Oregon|   M|Turquoise|Spring|   2.7|\n",
      "|  6| 46|  Sneakers|   Footwear|    20|      Wyoming|   M|    White|Summer|   2.9|\n",
      "|  7| 63|     Shirt|   Clothing|    85|      Montana|   M|     Gray|  Fall|   3.2|\n",
      "|  8| 27|    Shorts|   Clothing|    34|    Louisiana|   L| Charcoal|Winter|   3.2|\n",
      "|  9| 26|      Coat|  Outerwear|    97|West Virginia|   L|   Silver|Summer|   2.6|\n",
      "| 10| 57|   Handbag|Accessories|    31|     Missouri|   M|     Pink|Spring|   4.8|\n",
      "| 11| 53|     Shoes|   Footwear|    34|     Arkansas|   L|   Purple|  Fall|   4.1|\n",
      "| 12| 30|    Shorts|   Clothing|    68|       Hawaii|   S|    Olive|Winter|   4.9|\n",
      "| 13| 61|      Coat|  Outerwear|    72|     Delaware|   M|     Gold|Winter|   4.5|\n",
      "| 14| 65|     Dress|   Clothing|    51|New Hampshire|   M|   Violet|Spring|   4.7|\n",
      "| 15| 64|      Coat|  Outerwear|    53|     New York|   L|     Teal|Winter|   4.7|\n",
      "| 16| 64|     Skirt|   Clothing|    81| Rhode Island|   M|     Teal|Winter|   2.8|\n",
      "| 17| 25|Sunglasses|Accessories|    36|      Alabama|   S|     Gray|Spring|   4.1|\n",
      "| 18| 53|     Dress|   Clothing|    38|  Mississippi|  XL| Lavender|Winter|   4.7|\n",
      "| 19| 52|   Sweater|   Clothing|    48|      Montana|   S|    Black|Summer|   4.6|\n",
      "| 20| 66|     Pants|   Clothing|    90| Rhode Island|   M|    Green|Summer|   3.3|\n",
      "+---+---+----------+-----------+------+-------------+----+---------+------+------+\n",
      "only showing top 20 rows\n",
      "\n"
     ]
    }
   ],
   "source": [
    "# Set your data base properties\n",
    "jdbc_url = \"jdbc:postgresql://<host>:<port>/<database>\"\n",
    "db_properties = {\n",
    "    \"user\": \"<username>\",\n",
    "    \"password\": \"<password>\",\n",
    "    \"driver\": \"org.postgresql.Driver\"\n",
    "}\n",
    "\n",
    "# Read the data to the database\n",
    "df = spark.read \\\n",
    "    .format(\"jdbc\") \\\n",
    "    .option(\"url\", jdbc_url) \\\n",
    "    .option(\"dbtable\", \"shopping_trends\") \\\n",
    "    .option(\"user\", db_properties[\"user\"]) \\\n",
    "    .option(\"password\", db_properties[\"password\"]) \\\n",
    "    .option(\"driver\", db_properties[\"driver\"]) \\\n",
    "    .load()\n",
    "\n",
    "# Show data\n",
    "df.show()"
   ]
  },
  {
   "cell_type": "code",
   "execution_count": null,
   "metadata": {},
   "outputs": [
    {
     "name": "stdout",
     "output_type": "stream",
     "text": [
      "+----------+--------------+\n",
      "|      item|Total_Spending|\n",
      "+----------+--------------+\n",
      "|    Blouse|         10410|\n",
      "|     Shirt|         10332|\n",
      "|     Dress|         10320|\n",
      "|     Pants|         10090|\n",
      "|   Jewelry|         10010|\n",
      "|Sunglasses|          9649|\n",
      "|      Belt|          9635|\n",
      "|     Scarf|          9561|\n",
      "|   Sweater|          9462|\n",
      "|    Shorts|          9433|\n",
      "|     Skirt|          9402|\n",
      "|       Hat|          9375|\n",
      "|      Coat|          9275|\n",
      "|     Socks|          9252|\n",
      "|    Jacket|          9249|\n",
      "|   T-shirt|          9248|\n",
      "|     Shoes|          9240|\n",
      "|   Sandals|          9200|\n",
      "|     Boots|          9018|\n",
      "|   Handbag|          8857|\n",
      "+----------+--------------+\n",
      "only showing top 20 rows\n",
      "\n"
     ]
    }
   ],
   "source": [
    "#   Register the DataFrame as a SQL temporary view in order to be able to use SQL queries\n",
    "df.createOrReplaceTempView(\"data_table\")\n",
    " \n",
    "\n",
    "result = spark.sql(\"SELECT item, SUM(amount) AS Total_Spending \\\n",
    "                    FROM data_table \\\n",
    "                    GROUP BY item \\\n",
    "                    ORDER BY Total_Spending DESC;\")\n",
    " \n",
    "\n",
    "result.show()"
   ]
  },
  {
   "cell_type": "code",
   "execution_count": null,
   "metadata": {},
   "outputs": [
    {
     "name": "stdout",
     "output_type": "stream",
     "text": [
      "+-----------+------------------+\n",
      "|   category|    Average_Rating|\n",
      "+-----------+------------------+\n",
      "|   Footwear|3.7906510851419055|\n",
      "|Accessories|3.7686290322580676|\n",
      "|  Outerwear| 3.746913580246914|\n",
      "|   Clothing|3.7231433506044884|\n",
      "+-----------+------------------+\n",
      "\n"
     ]
    }
   ],
   "source": [
    "result = spark.sql(\"SELECT category, AVG(`rating`) AS Average_Rating \\\n",
    "                    FROM data_table \\\n",
    "                    GROUP BY category \\\n",
    "                    ORDER BY Average_Rating DESC;\")\n",
    " \n",
    "\n",
    "result.show()"
   ]
  },
  {
   "cell_type": "code",
   "execution_count": 15,
   "metadata": {},
   "outputs": [
    {
     "name": "stdout",
     "output_type": "stream",
     "text": [
      "+---------+-------------------+\n",
      "|Age_Group|Avg_Purchase_Amount|\n",
      "+---------+-------------------+\n",
      "|    21-30|  60.75305291723202|\n",
      "| Above 50|  59.94579945799458|\n",
      "|    31-40|  59.57655172413793|\n",
      "| Under 21|   58.9811320754717|\n",
      "|    41-50|  58.83866666666667|\n",
      "+---------+-------------------+\n",
      "\n"
     ]
    }
   ],
   "source": [
    "age_group_df = spark.sql(\"SELECT CASE \\\n",
    "           WHEN `age` < 21 THEN 'Under 21' \\\n",
    "           WHEN `age` BETWEEN 21 AND 30 THEN '21-30' \\\n",
    "           WHEN `age` BETWEEN 31 AND 40 THEN '31-40' \\\n",
    "           WHEN `age` BETWEEN 41 AND 50 THEN '41-50' \\\n",
    "           WHEN `age` > 50 THEN 'Above 50' \\\n",
    "       END AS `Age_Group`, \\\n",
    "       AVG(`amount`) AS `Avg_Purchase_Amount` \\\n",
    "FROM data_table \\\n",
    "GROUP BY `Age_Group` \\\n",
    "ORDER BY `Avg_Purchase_Amount` DESC;\")\n",
    " \n",
    "\n",
    "age_group_df.show()"
   ]
  },
  {
   "cell_type": "code",
   "execution_count": 14,
   "metadata": {},
   "outputs": [
    {
     "name": "stdout",
     "output_type": "stream",
     "text": [
      "+----+--------------+-----------------+\n",
      "|  id|Total_Spending|Avg_Review_Rating|\n",
      "+----+--------------+-----------------+\n",
      "|2072|           100|              4.8|\n",
      "| 249|           100|              4.8|\n",
      "|3838|           100|              4.8|\n",
      "|2286|           100|              4.6|\n",
      "|1301|           100|              4.5|\n",
      "+----+--------------+-----------------+\n",
      "\n"
     ]
    }
   ],
   "source": [
    "result = spark.sql(\"SELECT id, \\\n",
    "            SUM(amount) AS `Total_Spending`,  \\\n",
    "            AVG(rating) AS `Avg_Review_Rating` \\\n",
    "            FROM data_table \\\n",
    "            GROUP BY `id` \\\n",
    "            ORDER BY `Total_Spending` DESC, `Avg_Review_Rating` DESC \\\n",
    "            LIMIT 5;\")\n",
    " \n",
    "\n",
    "result.show()"
   ]
  },
  {
   "cell_type": "code",
   "execution_count": 19,
   "metadata": {},
   "outputs": [],
   "source": [
    "spark.stop()"
   ]
  }
 ],
 "metadata": {
  "kernelspec": {
   "display_name": "Python 3",
   "language": "python",
   "name": "python3"
  },
  "language_info": {
   "codemirror_mode": {
    "name": "ipython",
    "version": 3
   },
   "file_extension": ".py",
   "mimetype": "text/x-python",
   "name": "python",
   "nbconvert_exporter": "python",
   "pygments_lexer": "ipython3",
   "version": "3.9.0"
  }
 },
 "nbformat": 4,
 "nbformat_minor": 2
}
