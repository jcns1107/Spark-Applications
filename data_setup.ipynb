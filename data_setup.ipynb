{
 "cells": [
  {
   "cell_type": "code",
   "execution_count": 23,
   "metadata": {},
   "outputs": [
    {
     "name": "stdout",
     "output_type": "stream",
     "text": [
      "3.5.2\n"
     ]
    }
   ],
   "source": [
    "from pyspark.sql import SparkSession\n",
    "\n",
    "# Set your own jar path\n",
    "jar_path = \"path/to/postgresql-42.x.x.jar\"\n",
    "\n",
    "# SparkSession Start\n",
    "spark = SparkSession.builder \\\n",
    "    .appName(\"TestSession\") \\\n",
    "    .master(\"local[*]\") \\\n",
    "    .config(\"spark.jars\", jar_path) \\\n",
    "    .getOrCreate()\n",
    "\n",
    "print(spark.version)"
   ]
  },
  {
   "cell_type": "code",
   "execution_count": 24,
   "metadata": {},
   "outputs": [
    {
     "name": "stdout",
     "output_type": "stream",
     "text": [
      "postgresql-42.7.5.jar\n"
     ]
    }
   ],
   "source": [
    "print(spark.conf.get(\"spark.jars\"))"
   ]
  },
  {
   "cell_type": "code",
   "execution_count": 25,
   "metadata": {},
   "outputs": [],
   "source": [
    "# Reading the data\n",
    "shopping = spark.read.format(\"csv\") \\\n",
    "  .option(\"header\", \"true\") \\\n",
    "  .option(\"inferSchema\", \"true\") \\\n",
    "  .load(\"data/shopping_trends.csv\")"
   ]
  },
  {
   "cell_type": "code",
   "execution_count": 26,
   "metadata": {},
   "outputs": [
    {
     "name": "stdout",
     "output_type": "stream",
     "text": [
      "root\n",
      " |-- Customer ID: integer (nullable = true)\n",
      " |-- Age: integer (nullable = true)\n",
      " |-- Gender: string (nullable = true)\n",
      " |-- Item Purchased: string (nullable = true)\n",
      " |-- Category: string (nullable = true)\n",
      " |-- Purchase Amount (USD): integer (nullable = true)\n",
      " |-- Location: string (nullable = true)\n",
      " |-- Size: string (nullable = true)\n",
      " |-- Color: string (nullable = true)\n",
      " |-- Season: string (nullable = true)\n",
      " |-- Review Rating: double (nullable = true)\n",
      " |-- Subscription Status: string (nullable = true)\n",
      " |-- Payment Method: string (nullable = true)\n",
      " |-- Shipping Type: string (nullable = true)\n",
      " |-- Discount Applied: string (nullable = true)\n",
      " |-- Promo Code Used: string (nullable = true)\n",
      " |-- Previous Purchases: integer (nullable = true)\n",
      " |-- Preferred Payment Method: string (nullable = true)\n",
      " |-- Frequency of Purchases: string (nullable = true)\n",
      "\n"
     ]
    }
   ],
   "source": [
    "shopping.printSchema()"
   ]
  },
  {
   "cell_type": "code",
   "execution_count": 27,
   "metadata": {},
   "outputs": [
    {
     "name": "stdout",
     "output_type": "stream",
     "text": [
      "+-----------+---+------+--------------+--------+---------------------+-------------+----+---------+------+-------------+-------------------+--------------+-------------+----------------+---------------+------------------+------------------------+----------------------+\n",
      "|Customer ID|Age|Gender|Item Purchased|Category|Purchase Amount (USD)|     Location|Size|    Color|Season|Review Rating|Subscription Status|Payment Method|Shipping Type|Discount Applied|Promo Code Used|Previous Purchases|Preferred Payment Method|Frequency of Purchases|\n",
      "+-----------+---+------+--------------+--------+---------------------+-------------+----+---------+------+-------------+-------------------+--------------+-------------+----------------+---------------+------------------+------------------------+----------------------+\n",
      "|          1| 55|  Male|        Blouse|Clothing|                   53|     Kentucky|   L|     Gray|Winter|          3.1|                Yes|   Credit Card|      Express|             Yes|            Yes|                14|                   Venmo|           Fortnightly|\n",
      "|          2| 19|  Male|       Sweater|Clothing|                   64|        Maine|   L|   Maroon|Winter|          3.1|                Yes| Bank Transfer|      Express|             Yes|            Yes|                 2|                    Cash|           Fortnightly|\n",
      "|          3| 50|  Male|         Jeans|Clothing|                   73|Massachusetts|   S|   Maroon|Spring|          3.1|                Yes|          Cash|Free Shipping|             Yes|            Yes|                23|             Credit Card|                Weekly|\n",
      "|          4| 21|  Male|       Sandals|Footwear|                   90| Rhode Island|   M|   Maroon|Spring|          3.5|                Yes|        PayPal| Next Day Air|             Yes|            Yes|                49|                  PayPal|                Weekly|\n",
      "|          5| 45|  Male|        Blouse|Clothing|                   49|       Oregon|   M|Turquoise|Spring|          2.7|                Yes|          Cash|Free Shipping|             Yes|            Yes|                31|                  PayPal|              Annually|\n",
      "+-----------+---+------+--------------+--------+---------------------+-------------+----+---------+------+-------------+-------------------+--------------+-------------+----------------+---------------+------------------+------------------------+----------------------+\n",
      "only showing top 5 rows\n",
      "\n"
     ]
    }
   ],
   "source": [
    "shopping.show(5)"
   ]
  },
  {
   "cell_type": "code",
   "execution_count": 40,
   "metadata": {},
   "outputs": [
    {
     "name": "stdout",
     "output_type": "stream",
     "text": [
      "+---+---+-------+--------+------+-------------+----+------+------+------+\n",
      "| id|age|   item|category|amount|     location|size| color|season|rating|\n",
      "+---+---+-------+--------+------+-------------+----+------+------+------+\n",
      "|  1| 55| Blouse|Clothing|    53|     Kentucky|   L|  Gray|Winter|   3.1|\n",
      "|  2| 19|Sweater|Clothing|    64|        Maine|   L|Maroon|Winter|   3.1|\n",
      "|  3| 50|  Jeans|Clothing|    73|Massachusetts|   S|Maroon|Spring|   3.1|\n",
      "|  4| 21|Sandals|Footwear|    90| Rhode Island|   M|Maroon|Spring|   3.5|\n",
      "+---+---+-------+--------+------+-------------+----+------+------+------+\n",
      "only showing top 4 rows\n",
      "\n"
     ]
    }
   ],
   "source": [
    "from pyspark.sql.functions import col\n",
    "\n",
    "# Changing the column names for for later usage\n",
    "df_filter = shopping.select(col(\"Customer ID\").alias(\"id\"), \n",
    "                            col(\"Age\").alias(\"age\"), \n",
    "                            col(\"Item Purchased\").alias(\"item\"), \n",
    "                            col(\"Category\").alias(\"category\"), \n",
    "                            col(\"Purchase Amount (USD)\").alias(\"amount\"), \n",
    "                            col(\"Location\").alias(\"location\"), \n",
    "                            col(\"Size\").alias(\"size\"), \n",
    "                            col(\"Color\").alias(\"color\"), \n",
    "                            col(\"Season\").alias(\"season\"), \n",
    "                            col(\"Review Rating\").alias(\"rating\"))\n",
    "\n",
    "df_filter.show(4)"
   ]
  },
  {
   "cell_type": "code",
   "execution_count": 41,
   "metadata": {},
   "outputs": [],
   "source": [
    "# Set your data base properties\n",
    "jdbc_url = \"jdbc:postgresql://<host>:<port>/<database>\"\n",
    "db_properties = {\n",
    "    \"user\": \"<username>\",\n",
    "    \"password\": \"<password>\",\n",
    "    \"driver\": \"org.postgresql.Driver\"\n",
    "}\n",
    "# Write the data to the database\n",
    "df_filter.write \\\n",
    "    .format(\"jdbc\") \\\n",
    "    .option(\"url\", jdbc_url) \\\n",
    "    .option(\"dbtable\", \"shopping_trends\") \\\n",
    "    .option(\"user\", db_properties[\"user\"]) \\\n",
    "    .option(\"password\", db_properties[\"password\"]) \\\n",
    "    .option(\"driver\", db_properties[\"driver\"]) \\\n",
    "    .mode(\"overwrite\") \\\n",
    "    .save()"
   ]
  },
  {
   "cell_type": "code",
   "execution_count": 42,
   "metadata": {},
   "outputs": [
    {
     "name": "stdout",
     "output_type": "stream",
     "text": [
      "+---+---+----------+-----------+------+-------------+----+---------+------+------+\n",
      "| id|age|      item|   category|amount|     location|size|    color|season|rating|\n",
      "+---+---+----------+-----------+------+-------------+----+---------+------+------+\n",
      "|  1| 55|    Blouse|   Clothing|    53|     Kentucky|   L|     Gray|Winter|   3.1|\n",
      "|  2| 19|   Sweater|   Clothing|    64|        Maine|   L|   Maroon|Winter|   3.1|\n",
      "|  3| 50|     Jeans|   Clothing|    73|Massachusetts|   S|   Maroon|Spring|   3.1|\n",
      "|  4| 21|   Sandals|   Footwear|    90| Rhode Island|   M|   Maroon|Spring|   3.5|\n",
      "|  5| 45|    Blouse|   Clothing|    49|       Oregon|   M|Turquoise|Spring|   2.7|\n",
      "|  6| 46|  Sneakers|   Footwear|    20|      Wyoming|   M|    White|Summer|   2.9|\n",
      "|  7| 63|     Shirt|   Clothing|    85|      Montana|   M|     Gray|  Fall|   3.2|\n",
      "|  8| 27|    Shorts|   Clothing|    34|    Louisiana|   L| Charcoal|Winter|   3.2|\n",
      "|  9| 26|      Coat|  Outerwear|    97|West Virginia|   L|   Silver|Summer|   2.6|\n",
      "| 10| 57|   Handbag|Accessories|    31|     Missouri|   M|     Pink|Spring|   4.8|\n",
      "| 11| 53|     Shoes|   Footwear|    34|     Arkansas|   L|   Purple|  Fall|   4.1|\n",
      "| 12| 30|    Shorts|   Clothing|    68|       Hawaii|   S|    Olive|Winter|   4.9|\n",
      "| 13| 61|      Coat|  Outerwear|    72|     Delaware|   M|     Gold|Winter|   4.5|\n",
      "| 14| 65|     Dress|   Clothing|    51|New Hampshire|   M|   Violet|Spring|   4.7|\n",
      "| 15| 64|      Coat|  Outerwear|    53|     New York|   L|     Teal|Winter|   4.7|\n",
      "| 16| 64|     Skirt|   Clothing|    81| Rhode Island|   M|     Teal|Winter|   2.8|\n",
      "| 17| 25|Sunglasses|Accessories|    36|      Alabama|   S|     Gray|Spring|   4.1|\n",
      "| 18| 53|     Dress|   Clothing|    38|  Mississippi|  XL| Lavender|Winter|   4.7|\n",
      "| 19| 52|   Sweater|   Clothing|    48|      Montana|   S|    Black|Summer|   4.6|\n",
      "| 20| 66|     Pants|   Clothing|    90| Rhode Island|   M|    Green|Summer|   3.3|\n",
      "+---+---+----------+-----------+------+-------------+----+---------+------+------+\n",
      "only showing top 20 rows\n",
      "\n"
     ]
    }
   ],
   "source": [
    "#Read the data from the database\n",
    "read_df = spark.read \\\n",
    "    .format(\"jdbc\") \\\n",
    "    .option(\"url\", jdbc_url) \\\n",
    "    .option(\"dbtable\", \"shopping_trends\") \\\n",
    "    .option(\"user\", db_properties[\"user\"]) \\\n",
    "    .option(\"password\", db_properties[\"password\"]) \\\n",
    "    .option(\"driver\", db_properties[\"driver\"]) \\\n",
    "    .load()\n",
    "\n",
    "\n",
    "read_df.show()"
   ]
  },
  {
   "cell_type": "code",
   "execution_count": 21,
   "metadata": {},
   "outputs": [],
   "source": [
    "spark.stop()"
   ]
  }
 ],
 "metadata": {
  "kernelspec": {
   "display_name": "Python 3",
   "language": "python",
   "name": "python3"
  },
  "language_info": {
   "codemirror_mode": {
    "name": "ipython",
    "version": 3
   },
   "file_extension": ".py",
   "mimetype": "text/x-python",
   "name": "python",
   "nbconvert_exporter": "python",
   "pygments_lexer": "ipython3",
   "version": "3.9.0"
  }
 },
 "nbformat": 4,
 "nbformat_minor": 2
}
